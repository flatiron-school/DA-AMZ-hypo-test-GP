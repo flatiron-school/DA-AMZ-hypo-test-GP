{
 "cells": [
  {
   "cell_type": "markdown",
   "metadata": {},
   "source": [
    "# Hypothesis Test GP\n",
    "\n",
    "## Outline\n",
    "\n",
    "- **Prepare data**    \n",
    "- **Calculate 90% confidence interval for average price of car. Use sample of 250, 500, 1000**\n",
    "- **Create three different subsets according to `category` and compare `price` across the three subsets**\n",
    "- **Perform a two-tailed t-test on `price` according to `category`**\n",
    "- **Perform a one-tailed t-test on `price` according to `category`**\n",
    "\n",
    "### Level Up\n",
    "- **Calculate 80% bootstrapped confidence interval**"
   ]
  },
  {
   "cell_type": "code",
   "execution_count": 1,
   "metadata": {},
   "outputs": [],
   "source": [
    "import pandas as pd\n",
    "import numpy as np\n",
    "import matplotlib.pyplot as plt\n",
    "import seaborn as sns\n",
    "from scipy import stats\n",
    "%matplotlib inline"
   ]
  },
  {
   "cell_type": "markdown",
   "metadata": {},
   "source": [
    "## Prepare Data\n",
    "\n",
    "The csv file we want is stored in the `data` folder as `car_price.csv`. Read the file into a DataFrame, display the first five rows, and check the type of each column.\n",
    "\n",
    "Filter the DataFrame to meet the following criteria:\n",
    "- Cars were produced between 2000 and 2016\n",
    "- The `category` of vehicle belongs to the set `{\"Jeep\", \"Hatchback\", \"Sedan\"}`"
   ]
  },
  {
   "cell_type": "code",
   "execution_count": 2,
   "metadata": {},
   "outputs": [
    {
     "data": {
      "text/html": [
       "<div>\n",
       "<style scoped>\n",
       "    .dataframe tbody tr th:only-of-type {\n",
       "        vertical-align: middle;\n",
       "    }\n",
       "\n",
       "    .dataframe tbody tr th {\n",
       "        vertical-align: top;\n",
       "    }\n",
       "\n",
       "    .dataframe thead th {\n",
       "        text-align: right;\n",
       "    }\n",
       "</style>\n",
       "<table border=\"1\" class=\"dataframe\">\n",
       "  <thead>\n",
       "    <tr style=\"text-align: right;\">\n",
       "      <th></th>\n",
       "      <th>id</th>\n",
       "      <th>price</th>\n",
       "      <th>levy</th>\n",
       "      <th>manufacturer</th>\n",
       "      <th>model</th>\n",
       "      <th>prod._year</th>\n",
       "      <th>category</th>\n",
       "      <th>leather_interior</th>\n",
       "      <th>fuel_type</th>\n",
       "      <th>engine_volume</th>\n",
       "      <th>mileage</th>\n",
       "      <th>cylinders</th>\n",
       "      <th>gear_box_type</th>\n",
       "      <th>drive_wheels</th>\n",
       "      <th>doors</th>\n",
       "      <th>wheel</th>\n",
       "      <th>color</th>\n",
       "      <th>airbags</th>\n",
       "    </tr>\n",
       "  </thead>\n",
       "  <tbody>\n",
       "    <tr>\n",
       "      <th>0</th>\n",
       "      <td>45654403</td>\n",
       "      <td>13328</td>\n",
       "      <td>1399</td>\n",
       "      <td>LEXUS</td>\n",
       "      <td>RX 450</td>\n",
       "      <td>2010</td>\n",
       "      <td>Jeep</td>\n",
       "      <td>Yes</td>\n",
       "      <td>Hybrid</td>\n",
       "      <td>3.5</td>\n",
       "      <td>186005 km</td>\n",
       "      <td>6.0</td>\n",
       "      <td>Automatic</td>\n",
       "      <td>4x4</td>\n",
       "      <td>04-May</td>\n",
       "      <td>Left wheel</td>\n",
       "      <td>Silver</td>\n",
       "      <td>12</td>\n",
       "    </tr>\n",
       "    <tr>\n",
       "      <th>1</th>\n",
       "      <td>44731507</td>\n",
       "      <td>16621</td>\n",
       "      <td>1018</td>\n",
       "      <td>CHEVROLET</td>\n",
       "      <td>Equinox</td>\n",
       "      <td>2011</td>\n",
       "      <td>Jeep</td>\n",
       "      <td>No</td>\n",
       "      <td>Petrol</td>\n",
       "      <td>3</td>\n",
       "      <td>192000 km</td>\n",
       "      <td>6.0</td>\n",
       "      <td>Tiptronic</td>\n",
       "      <td>4x4</td>\n",
       "      <td>04-May</td>\n",
       "      <td>Left wheel</td>\n",
       "      <td>Black</td>\n",
       "      <td>8</td>\n",
       "    </tr>\n",
       "    <tr>\n",
       "      <th>2</th>\n",
       "      <td>45774419</td>\n",
       "      <td>8467</td>\n",
       "      <td>-</td>\n",
       "      <td>HONDA</td>\n",
       "      <td>FIT</td>\n",
       "      <td>2006</td>\n",
       "      <td>Hatchback</td>\n",
       "      <td>No</td>\n",
       "      <td>Petrol</td>\n",
       "      <td>1.3</td>\n",
       "      <td>200000 km</td>\n",
       "      <td>4.0</td>\n",
       "      <td>Variator</td>\n",
       "      <td>Front</td>\n",
       "      <td>04-May</td>\n",
       "      <td>Right-hand drive</td>\n",
       "      <td>Black</td>\n",
       "      <td>2</td>\n",
       "    </tr>\n",
       "    <tr>\n",
       "      <th>3</th>\n",
       "      <td>45769185</td>\n",
       "      <td>3607</td>\n",
       "      <td>862</td>\n",
       "      <td>FORD</td>\n",
       "      <td>Escape</td>\n",
       "      <td>2011</td>\n",
       "      <td>Jeep</td>\n",
       "      <td>Yes</td>\n",
       "      <td>Hybrid</td>\n",
       "      <td>2.5</td>\n",
       "      <td>168966 km</td>\n",
       "      <td>4.0</td>\n",
       "      <td>Automatic</td>\n",
       "      <td>4x4</td>\n",
       "      <td>04-May</td>\n",
       "      <td>Left wheel</td>\n",
       "      <td>White</td>\n",
       "      <td>0</td>\n",
       "    </tr>\n",
       "    <tr>\n",
       "      <th>4</th>\n",
       "      <td>45809263</td>\n",
       "      <td>11726</td>\n",
       "      <td>446</td>\n",
       "      <td>HONDA</td>\n",
       "      <td>FIT</td>\n",
       "      <td>2014</td>\n",
       "      <td>Hatchback</td>\n",
       "      <td>Yes</td>\n",
       "      <td>Petrol</td>\n",
       "      <td>1.3</td>\n",
       "      <td>91901 km</td>\n",
       "      <td>4.0</td>\n",
       "      <td>Automatic</td>\n",
       "      <td>Front</td>\n",
       "      <td>04-May</td>\n",
       "      <td>Left wheel</td>\n",
       "      <td>Silver</td>\n",
       "      <td>4</td>\n",
       "    </tr>\n",
       "  </tbody>\n",
       "</table>\n",
       "</div>"
      ],
      "text/plain": [
       "         id  price  levy manufacturer    model  prod._year   category  \\\n",
       "0  45654403  13328  1399        LEXUS   RX 450        2010       Jeep   \n",
       "1  44731507  16621  1018    CHEVROLET  Equinox        2011       Jeep   \n",
       "2  45774419   8467     -        HONDA      FIT        2006  Hatchback   \n",
       "3  45769185   3607   862         FORD   Escape        2011       Jeep   \n",
       "4  45809263  11726   446        HONDA      FIT        2014  Hatchback   \n",
       "\n",
       "  leather_interior fuel_type engine_volume    mileage  cylinders  \\\n",
       "0              Yes    Hybrid           3.5  186005 km        6.0   \n",
       "1               No    Petrol             3  192000 km        6.0   \n",
       "2               No    Petrol           1.3  200000 km        4.0   \n",
       "3              Yes    Hybrid           2.5  168966 km        4.0   \n",
       "4              Yes    Petrol           1.3   91901 km        4.0   \n",
       "\n",
       "  gear_box_type drive_wheels   doors             wheel   color  airbags  \n",
       "0     Automatic          4x4  04-May        Left wheel  Silver       12  \n",
       "1     Tiptronic          4x4  04-May        Left wheel   Black        8  \n",
       "2      Variator        Front  04-May  Right-hand drive   Black        2  \n",
       "3     Automatic          4x4  04-May        Left wheel   White        0  \n",
       "4     Automatic        Front  04-May        Left wheel  Silver        4  "
      ]
     },
     "execution_count": 2,
     "metadata": {},
     "output_type": "execute_result"
    }
   ],
   "source": [
    "# Your code here\n",
    "df = pd.read_csv(\"./data/car_price.csv\")\n",
    "df.head()"
   ]
  },
  {
   "cell_type": "code",
   "execution_count": 3,
   "metadata": {},
   "outputs": [
    {
     "data": {
      "text/plain": [
       "(17377, 18)"
      ]
     },
     "execution_count": 3,
     "metadata": {},
     "output_type": "execute_result"
    }
   ],
   "source": [
    "df.shape"
   ]
  },
  {
   "cell_type": "code",
   "execution_count": 4,
   "metadata": {},
   "outputs": [
    {
     "name": "stdout",
     "output_type": "stream",
     "text": [
      "<class 'pandas.core.frame.DataFrame'>\n",
      "RangeIndex: 17377 entries, 0 to 17376\n",
      "Data columns (total 18 columns):\n",
      " #   Column            Non-Null Count  Dtype  \n",
      "---  ------            --------------  -----  \n",
      " 0   id                17377 non-null  int64  \n",
      " 1   price             17377 non-null  int64  \n",
      " 2   levy              17377 non-null  object \n",
      " 3   manufacturer      17377 non-null  object \n",
      " 4   model             17377 non-null  object \n",
      " 5   prod._year        17377 non-null  int64  \n",
      " 6   category          17377 non-null  object \n",
      " 7   leather_interior  17377 non-null  object \n",
      " 8   fuel_type         17377 non-null  object \n",
      " 9   engine_volume     17377 non-null  object \n",
      " 10  mileage           17377 non-null  object \n",
      " 11  cylinders         17377 non-null  float64\n",
      " 12  gear_box_type     17377 non-null  object \n",
      " 13  drive_wheels      17377 non-null  object \n",
      " 14  doors             17377 non-null  object \n",
      " 15  wheel             17377 non-null  object \n",
      " 16  color             17377 non-null  object \n",
      " 17  airbags           17377 non-null  int64  \n",
      "dtypes: float64(1), int64(4), object(13)\n",
      "memory usage: 2.4+ MB\n"
     ]
    }
   ],
   "source": [
    "df.info()"
   ]
  },
  {
   "cell_type": "code",
   "execution_count": 11,
   "metadata": {},
   "outputs": [],
   "source": [
    "# Filter df for cars between 2000 and 2016\n",
    "df = df.loc[(df['prod._year'] >= 2000) & (df['prod._year'] <= 2016)]"
   ]
  },
  {
   "cell_type": "code",
   "execution_count": 12,
   "metadata": {},
   "outputs": [
    {
     "data": {
      "text/plain": [
       "array(['Jeep', 'Hatchback', 'Sedan', 'Microbus', 'Goods wagon',\n",
       "       'Universal', 'Coupe', 'Minivan', 'Cabriolet', 'Pickup',\n",
       "       'Limousine'], dtype=object)"
      ]
     },
     "execution_count": 12,
     "metadata": {},
     "output_type": "execute_result"
    }
   ],
   "source": [
    "df['category'].unique()"
   ]
  },
  {
   "cell_type": "code",
   "execution_count": 20,
   "metadata": {},
   "outputs": [],
   "source": [
    "# Filter category to include {\"Jeep\", \"Hatchback\", \"Sedan\"}\n",
    "df = df.loc[df['category'].isin({\"Jeep\", \"Hatchback\", \"Sedan\"})]"
   ]
  },
  {
   "cell_type": "code",
   "execution_count": 21,
   "metadata": {},
   "outputs": [
    {
     "data": {
      "text/plain": [
       "(13378, 18)"
      ]
     },
     "execution_count": 21,
     "metadata": {},
     "output_type": "execute_result"
    }
   ],
   "source": [
    "df.shape"
   ]
  },
  {
   "cell_type": "markdown",
   "metadata": {},
   "source": [
    "## Confidence Interval\n",
    "\n",
    "Calculate a 90% confidence interval around the mean `price` using the following sample sizes:\n",
    "- 250\n",
    "- 500\n",
    "- 1000\n",
    "\n",
    "Compare the range values for each sample size\n",
    "\n",
    "**Note**: Need to set `random_state` when taking sample or sample will be different each time. Also why Bootstrap CI is more robust."
   ]
  },
  {
   "cell_type": "code",
   "execution_count": 46,
   "metadata": {},
   "outputs": [],
   "source": [
    "sample_250 = df['price'].sample(n=250, random_state=42)"
   ]
  },
  {
   "cell_type": "code",
   "execution_count": 47,
   "metadata": {},
   "outputs": [],
   "source": [
    "# Sample mean\n",
    "sample_mean = sample_250.mean()\n",
    "\n",
    "# Sample Standard Deviation\n",
    "sample_std = sample_250.std()\n",
    "\n",
    "# Sample Standard Error\n",
    "se = stats.sem(sample_250)\n",
    "\n",
    "# Sample Size\n",
    "sample_size = len(sample_250)"
   ]
  },
  {
   "cell_type": "markdown",
   "metadata": {},
   "source": [
    "**alpha** in `stats.t.interval` is refering to the **confidence level**, not actual alpha value\n",
    "\n",
    "ex. for 95% confidence interval, alpha=.95, not .05"
   ]
  },
  {
   "cell_type": "code",
   "execution_count": 48,
   "metadata": {},
   "outputs": [
    {
     "data": {
      "text/plain": [
       "(13591.830821984751, 16009.633178015249)"
      ]
     },
     "execution_count": 48,
     "metadata": {},
     "output_type": "execute_result"
    }
   ],
   "source": [
    "stats.t.interval(.9, loc=sample_mean, scale=se, df=sample_size-1)"
   ]
  },
  {
   "cell_type": "markdown",
   "metadata": {},
   "source": [
    "With a sample size of 250, we are 90% confident that the true mean of price falls within 13,591 and 16,009"
   ]
  },
  {
   "cell_type": "code",
   "execution_count": 49,
   "metadata": {},
   "outputs": [],
   "source": [
    "def calculate_ci(sample, confidence_level):\n",
    "    \n",
    "    # Sample mean\n",
    "    sample_mean = sample.mean()\n",
    "\n",
    "    # Sample Standard Deviation\n",
    "    sample_std = sample.std()\n",
    "\n",
    "    # Sample Standard Error\n",
    "    se = stats.sem(sample)\n",
    "\n",
    "    # Sample Size\n",
    "    sample_size = len(sample)\n",
    "    \n",
    "    # Calculate and return confidence interval\n",
    "    return stats.t.interval(confidence_level, loc=sample_mean, scale=se, df=sample_size-1)"
   ]
  },
  {
   "cell_type": "code",
   "execution_count": 69,
   "metadata": {},
   "outputs": [],
   "source": [
    "# Sample of 500\n",
    "sample_500 = df['price'].sample(n=500, random_state=42)"
   ]
  },
  {
   "cell_type": "code",
   "execution_count": 68,
   "metadata": {},
   "outputs": [
    {
     "data": {
      "text/plain": [
       "(13871.715451379716, 15504.120548620283)"
      ]
     },
     "execution_count": 68,
     "metadata": {},
     "output_type": "execute_result"
    }
   ],
   "source": [
    "calculate_ci(sample_500, .9)"
   ]
  },
  {
   "cell_type": "markdown",
   "metadata": {},
   "source": [
    "With a sample size of 500, we are 90% confident that the true mean of price falls within 13,871 and 15,504"
   ]
  },
  {
   "cell_type": "code",
   "execution_count": 52,
   "metadata": {},
   "outputs": [],
   "source": [
    "# Sample of 1000\n",
    "sample_1000 = df['price'].sample(n=1000, random_state=42)"
   ]
  },
  {
   "cell_type": "code",
   "execution_count": 54,
   "metadata": {},
   "outputs": [
    {
     "data": {
      "text/plain": [
       "(14315.639858690143, 15510.222141309858)"
      ]
     },
     "execution_count": 54,
     "metadata": {},
     "output_type": "execute_result"
    }
   ],
   "source": [
    "calculate_ci(sample_1000, .9)"
   ]
  },
  {
   "cell_type": "markdown",
   "metadata": {},
   "source": [
    "With a sample size of 1000, we are 90% confident that the true mean of price falls within 14,315 and 15,510"
   ]
  },
  {
   "cell_type": "markdown",
   "metadata": {},
   "source": [
    "## Create three different subsets for `category`"
   ]
  },
  {
   "cell_type": "code",
   "execution_count": 70,
   "metadata": {},
   "outputs": [
    {
     "data": {
      "text/plain": [
       "Sedan        6976\n",
       "Jeep         4018\n",
       "Hatchback    2384\n",
       "Name: category, dtype: int64"
      ]
     },
     "execution_count": 70,
     "metadata": {},
     "output_type": "execute_result"
    }
   ],
   "source": [
    "# Your code here\n",
    "df['category'].value_counts()"
   ]
  },
  {
   "cell_type": "code",
   "execution_count": 83,
   "metadata": {},
   "outputs": [],
   "source": [
    "# Create subset with only Sedan category\n",
    "df_sedan = df.loc[df['category'] == \"Sedan\", \"price\"]"
   ]
  },
  {
   "cell_type": "code",
   "execution_count": 85,
   "metadata": {},
   "outputs": [],
   "source": [
    "df_jeep = df.loc[df['category'] == \"Jeep\", \"price\"]"
   ]
  },
  {
   "cell_type": "code",
   "execution_count": 87,
   "metadata": {},
   "outputs": [],
   "source": [
    "df_hatchback = df.loc[df['category'] == \"Hatchback\", \"price\"]"
   ]
  },
  {
   "cell_type": "markdown",
   "metadata": {},
   "source": [
    "## Compare `price` across three subsets"
   ]
  },
  {
   "cell_type": "code",
   "execution_count": 88,
   "metadata": {},
   "outputs": [
    {
     "data": {
      "image/png": "[encoded data removed]",
      "text/plain": [
       "<Figure size 720x432 with 1 Axes>"
      ]
     },
     "metadata": {
      "needs_background": "light"
     },
     "output_type": "display_data"
    }
   ],
   "source": [
    "# Your code here\n",
    "fig, ax = plt.subplots(figsize=(10,6))\n",
    "sns.boxplot(data=df, x='category', y='price', ax=ax)\n",
    "\n",
    "ax.set_title('Distribution of Price Across Category')\n",
    "ax.set_xlabel('Category')\n",
    "ax.set_ylabel('Price');"
   ]
  },
  {
   "cell_type": "markdown",
   "metadata": {},
   "source": [
    "- Median price of Jeep is highest, followed by Sedan then Hatchback.\n",
    "- Outliers in Sedan and Hatchback\n",
    "- Jeep has larger spread/variance than Hatchback or Sedan."
   ]
  },
  {
   "cell_type": "code",
   "execution_count": 89,
   "metadata": {},
   "outputs": [
    {
     "data": {
      "text/html": [
       "<div>\n",
       "<style scoped>\n",
       "    .dataframe tbody tr th:only-of-type {\n",
       "        vertical-align: middle;\n",
       "    }\n",
       "\n",
       "    .dataframe tbody tr th {\n",
       "        vertical-align: top;\n",
       "    }\n",
       "\n",
       "    .dataframe thead th {\n",
       "        text-align: right;\n",
       "    }\n",
       "</style>\n",
       "<table border=\"1\" class=\"dataframe\">\n",
       "  <thead>\n",
       "    <tr style=\"text-align: right;\">\n",
       "      <th></th>\n",
       "      <th>count</th>\n",
       "      <th>mean</th>\n",
       "      <th>std</th>\n",
       "      <th>min</th>\n",
       "      <th>25%</th>\n",
       "      <th>50%</th>\n",
       "      <th>75%</th>\n",
       "      <th>max</th>\n",
       "    </tr>\n",
       "    <tr>\n",
       "      <th>category</th>\n",
       "      <th></th>\n",
       "      <th></th>\n",
       "      <th></th>\n",
       "      <th></th>\n",
       "      <th></th>\n",
       "      <th></th>\n",
       "      <th></th>\n",
       "      <th></th>\n",
       "    </tr>\n",
       "  </thead>\n",
       "  <tbody>\n",
       "    <tr>\n",
       "      <th>Hatchback</th>\n",
       "      <td>2384.0</td>\n",
       "      <td>12079.050755</td>\n",
       "      <td>7371.461796</td>\n",
       "      <td>314.0</td>\n",
       "      <td>7213.0</td>\n",
       "      <td>11290.0</td>\n",
       "      <td>16621.0</td>\n",
       "      <td>49174.0</td>\n",
       "    </tr>\n",
       "    <tr>\n",
       "      <th>Jeep</th>\n",
       "      <td>4018.0</td>\n",
       "      <td>18479.090841</td>\n",
       "      <td>13704.074217</td>\n",
       "      <td>314.0</td>\n",
       "      <td>6429.0</td>\n",
       "      <td>17249.0</td>\n",
       "      <td>28059.0</td>\n",
       "      <td>49459.0</td>\n",
       "    </tr>\n",
       "    <tr>\n",
       "      <th>Sedan</th>\n",
       "      <td>6976.0</td>\n",
       "      <td>13378.490109</td>\n",
       "      <td>9573.639952</td>\n",
       "      <td>314.0</td>\n",
       "      <td>5802.0</td>\n",
       "      <td>12720.0</td>\n",
       "      <td>18817.0</td>\n",
       "      <td>49459.0</td>\n",
       "    </tr>\n",
       "  </tbody>\n",
       "</table>\n",
       "</div>"
      ],
      "text/plain": [
       "            count          mean           std    min     25%      50%  \\\n",
       "category                                                                \n",
       "Hatchback  2384.0  12079.050755   7371.461796  314.0  7213.0  11290.0   \n",
       "Jeep       4018.0  18479.090841  13704.074217  314.0  6429.0  17249.0   \n",
       "Sedan      6976.0  13378.490109   9573.639952  314.0  5802.0  12720.0   \n",
       "\n",
       "               75%      max  \n",
       "category                     \n",
       "Hatchback  16621.0  49174.0  \n",
       "Jeep       28059.0  49459.0  \n",
       "Sedan      18817.0  49459.0  "
      ]
     },
     "execution_count": 89,
     "metadata": {},
     "output_type": "execute_result"
    }
   ],
   "source": [
    "df.groupby('category')['price'].describe()"
   ]
  },
  {
   "cell_type": "code",
   "execution_count": 104,
   "metadata": {},
   "outputs": [
    {
     "data": {
      "image/png": "[encoded data removed]",
      "text/plain": [
       "<Figure size 720x432 with 1 Axes>"
      ]
     },
     "metadata": {
      "needs_background": "light"
     },
     "output_type": "display_data"
    }
   ],
   "source": [
    "fig, ax = plt.subplots(figsize=(10,6))\n",
    "\n",
    "ax.hist(df_jeep, label='Jeep', alpha=.5)\n",
    "ax.hist(df_sedan, label='Sedan', alpha=.5)\n",
    "ax.hist(df_hatchback, label='Hatchback', alpha=.5)\n",
    "\n",
    "# ax.axvline(df_jeep.mean(), color='b')\n",
    "# ax.axvline(df_sedan.mean(), color='orange')\n",
    "# ax.axvline(df_hatchback.mean(), color='g')\n",
    "\n",
    "ax.legend();"
   ]
  },
  {
   "cell_type": "code",
   "execution_count": 101,
   "metadata": {},
   "outputs": [
    {
     "data": {
      "image/png": "[encoded data removed]",
      "text/plain": [
       "<Figure size 720x576 with 3 Axes>"
      ]
     },
     "metadata": {
      "needs_background": "light"
     },
     "output_type": "display_data"
    }
   ],
   "source": [
    "fig, ax = plt.subplots(figsize=(10,8), nrows=3)\n",
    "\n",
    "ax[0].hist(df_jeep, label='Jeep')\n",
    "ax[1].hist(df_sedan, label='Sedan')\n",
    "ax[2].hist(df_hatchback, label='Hatchback');"
   ]
  },
  {
   "cell_type": "code",
   "execution_count": 105,
   "metadata": {},
   "outputs": [
    {
     "data": {
      "image/png": "[encoded data removed]",
      "text/plain": [
       "<Figure size 720x432 with 1 Axes>"
      ]
     },
     "metadata": {
      "needs_background": "light"
     },
     "output_type": "display_data"
    }
   ],
   "source": [
    "fig, ax = plt.subplots(figsize=(10,6))\n",
    "sns.histplot(data=df, x='price', hue='category', ax=ax);"
   ]
  },
  {
   "cell_type": "code",
   "execution_count": 106,
   "metadata": {},
   "outputs": [
    {
     "data": {
      "image/png": "[encoded data removed]",
      "text/plain": [
       "<Figure size 720x432 with 1 Axes>"
      ]
     },
     "metadata": {
      "needs_background": "light"
     },
     "output_type": "display_data"
    }
   ],
   "source": [
    "fig, ax = plt.subplots(figsize=(10,6))\n",
    "sns.kdeplot(data=df, x='price', hue='category', ax=ax);"
   ]
  },
  {
   "cell_type": "code",
   "execution_count": 107,
   "metadata": {},
   "outputs": [
    {
     "data": {
      "image/png": "[encoded data removed]",
      "text/plain": [
       "<Figure size 720x432 with 1 Axes>"
      ]
     },
     "metadata": {
      "needs_background": "light"
     },
     "output_type": "display_data"
    }
   ],
   "source": [
    "fig, ax = plt.subplots(figsize=(10,6))\n",
    "sns.violinplot(data=df, x='category', y='price');"
   ]
  },
  {
   "cell_type": "markdown",
   "metadata": {},
   "source": [
    "## Hypothesis Testing\n",
    "\n",
    "The output of a t-test in the scipy stats library (so, `ttest_1samp`, `ttest_rel`, `ttest_ind`, etc) is a tuple with two pieces:\n",
    "- the test statistic\n",
    "- the p-value\n",
    "\n",
    "I recommend you use the `alternative` argument in the t-test functions to tell it what kind of test you're running: \n",
    "- `'two-sided'` tells the stats library you're running a two-tailed test\n",
    "- `'less'` tells the stats library you're running a left tailed test\n",
    "- `'greater'` tells the stats library you're running a right tailed test\n",
    "\n",
    "### Complete the following for each example below:\n",
    "- Define the null and alternative hypothesis\n",
    "- Identify the appropriate type of test to use (use alpha of .05)\n",
    "- State what a Type I and Type II error would be in this context\n",
    "- Take a sample of 250 from each population\n",
    "- Run the test and interpret the results\n",
    "\n",
    "\n",
    "### Perform a two-tailed t-test on `price` according to `category`\n",
    "\n",
    "The hardest part is setting it up!"
   ]
  },
  {
   "cell_type": "markdown",
   "metadata": {},
   "source": [
    "- Null: There is no significant difference between the average price of a Jeep and the average price of a Sedan.\n",
    "- Alternative: There is a significant difference between the average price of a Jeep and the average price of a Sedan.\n",
    "\n",
    "- Type I: Come to the conclusion that average price of a Sedan is different than average price of a Jeep, when they are in fact the same (false positive).\n",
    "- Type II: Come to the conclusion that average price of a Sedan is the same as the average price of a Jeep, when they are in fact different (false negative).\n",
    "\n",
    "- Test Type: We will run a two-sample independent t-test."
   ]
  },
  {
   "cell_type": "code",
   "execution_count": 109,
   "metadata": {},
   "outputs": [],
   "source": [
    "# Your code here\n",
    "jeep_sample = df_jeep.sample(n=250, random_state=42)\n",
    "sedan_sample = df_sedan.sample(n=250, random_state=42)"
   ]
  },
  {
   "cell_type": "code",
   "execution_count": 110,
   "metadata": {},
   "outputs": [
    {
     "name": "stdout",
     "output_type": "stream",
     "text": [
      "Variance of Sedan sample:  102840711.43235345\n",
      "Variance of Jeep sample:  196295569.33476296\n"
     ]
    }
   ],
   "source": [
    "print(\"Variance of Sedan sample: \", sedan_sample.var())\n",
    "print(\"Variance of Jeep sample: \", jeep_sample.var())"
   ]
  },
  {
   "cell_type": "code",
   "execution_count": 112,
   "metadata": {},
   "outputs": [
    {
     "data": {
      "text/plain": [
       "Ttest_indResult(statistic=6.059372571849608, pvalue=2.8740938287879912e-09)"
      ]
     },
     "execution_count": 112,
     "metadata": {},
     "output_type": "execute_result"
    }
   ],
   "source": [
    "results = stats.ttest_ind(jeep_sample, sedan_sample, equal_var=False, alternative='two-sided')\n",
    "results"
   ]
  },
  {
   "cell_type": "code",
   "execution_count": 113,
   "metadata": {},
   "outputs": [
    {
     "name": "stdout",
     "output_type": "stream",
     "text": [
      "P value of t test:  2.8740938287879912e-09\n"
     ]
    }
   ],
   "source": [
    "p_val = results[1]\n",
    "print('P value of t test: ', p_val)"
   ]
  },
  {
   "cell_type": "markdown",
   "metadata": {},
   "source": [
    "Using an alpha (significance level) of .05, we can reject the null hypothesis because the p-value is lower"
   ]
  },
  {
   "cell_type": "markdown",
   "metadata": {},
   "source": [
    "### Perform a one-tailed t-test on `price` according to `category`"
   ]
  },
  {
   "cell_type": "markdown",
   "metadata": {},
   "source": [
    "- Null: The average price of a Sedan is less than or equal to the average price of a Hatchback.\n",
    "- Alternative: The average price of a Sedan is greater than the average price of a Hatchback.\n",
    "\n",
    "- Type I: Saying the average price of a Sedan is greater than the Hatchback when it is actually less than or equal to it (false positive).\n",
    "- Type II: The average price of Sedan is less than or equal to the Hatchback when it is actually greater than (false negative).\n",
    "\n",
    "- Test Type: We will run two sample independent t-test"
   ]
  },
  {
   "cell_type": "markdown",
   "metadata": {},
   "source": [
    "- Null: A <= B\n",
    "- Alternative: A > B"
   ]
  },
  {
   "cell_type": "code",
   "execution_count": 114,
   "metadata": {},
   "outputs": [],
   "source": [
    "# Your code here\n",
    "hatchback_sample = df_hatchback.sample(n=250, random_state=42)"
   ]
  },
  {
   "cell_type": "code",
   "execution_count": 125,
   "metadata": {},
   "outputs": [
    {
     "name": "stdout",
     "output_type": "stream",
     "text": [
      "Variance of Sedan sample:  102840711.43235345\n",
      "Variance of Hatchback sample:  56327898.591823295\n"
     ]
    }
   ],
   "source": [
    "print(\"Variance of Sedan sample: \", sedan_sample.var())\n",
    "print(\"Variance of Hatchback sample: \", hatchback_sample.var())"
   ]
  },
  {
   "cell_type": "code",
   "execution_count": 115,
   "metadata": {},
   "outputs": [
    {
     "data": {
      "text/plain": [
       "Ttest_indResult(statistic=1.07402906245868, pvalue=0.14168708356013984)"
      ]
     },
     "execution_count": 115,
     "metadata": {},
     "output_type": "execute_result"
    }
   ],
   "source": [
    "results = stats.ttest_ind(a=sedan_sample, b=hatchback_sample,\n",
    "                          equal_var=False, alternative='greater')\n",
    "results"
   ]
  },
  {
   "cell_type": "code",
   "execution_count": 116,
   "metadata": {},
   "outputs": [
    {
     "name": "stdout",
     "output_type": "stream",
     "text": [
      "P value of one tail t test:  0.14168708356013984\n"
     ]
    }
   ],
   "source": [
    "print('P value of one tail t test: ', results[1])"
   ]
  },
  {
   "cell_type": "markdown",
   "metadata": {},
   "source": [
    "We fail to reject the null hypothesis because the p-value of .14 is greater than are our defined alpha value of .05."
   ]
  },
  {
   "cell_type": "markdown",
   "metadata": {},
   "source": [
    "# Level Up\n",
    "\n",
    "## Calculate 80% bootstrapped confidence interval around mean Sedan price\n",
    "\n",
    "- Take a sample of 1000 from Sedan population\n",
    "- Take a bootstrap sample from our original sample with n=1000\n",
    "- Calculate the mean of the bootstrap sample\n",
    "- Repeat this process 10,000 times storing the mean of each bootstrap sample in a list.\n",
    "- Plot a distribution of the bootstrap sample means to ensure it reflects a normal distribution\n",
    "- Take an 80% confidence interval of the bootstrap sample means\n",
    "\n",
    "**HELPFUL HINT:** For an x% confidence interval, trim [(1 – [x/100]) / 2]%"
   ]
  },
  {
   "cell_type": "code",
   "execution_count": 118,
   "metadata": {},
   "outputs": [
    {
     "data": {
      "image/png": "[encoded data removed]",
      "text/plain": [
       "<Figure size 720x432 with 1 Axes>"
      ]
     },
     "metadata": {
      "needs_background": "light"
     },
     "output_type": "display_data"
    }
   ],
   "source": [
    "# Your code here\n",
    "df_sedan.hist(figsize=(10,6)).set(title='Distribution of Sedan Price (Pop)');"
   ]
  },
  {
   "cell_type": "code",
   "execution_count": 120,
   "metadata": {},
   "outputs": [
    {
     "data": {
      "image/png": "[encoded data removed]",
      "text/plain": [
       "<Figure size 720x432 with 1 Axes>"
      ]
     },
     "metadata": {
      "needs_background": "light"
     },
     "output_type": "display_data"
    }
   ],
   "source": [
    "main_sample = df_sedan.sample(n=250)\n",
    "main_sample.hist(figsize=(10,6)).set(title='Distribution of Sedan Price (Sample)');"
   ]
  },
  {
   "cell_type": "code",
   "execution_count": 121,
   "metadata": {},
   "outputs": [],
   "source": [
    "bootstrap_means = []\n",
    "for _ in range(10000):\n",
    "    bt_sample = main_sample.sample(n=250, replace=True)\n",
    "    bt_mean = bt_sample.mean()\n",
    "    bootstrap_means.append(bt_mean)"
   ]
  },
  {
   "cell_type": "code",
   "execution_count": 122,
   "metadata": {},
   "outputs": [
    {
     "data": {
      "image/png": "[encoded data removed]",
      "text/plain": [
       "<Figure size 720x432 with 1 Axes>"
      ]
     },
     "metadata": {
      "needs_background": "light"
     },
     "output_type": "display_data"
    }
   ],
   "source": [
    "fig, ax = plt.subplots(figsize=(10,6))\n",
    "ax.hist(bootstrap_means)\n",
    "ax.set_title('Bootstrap Sampling Distribution of mean Sedan Price');"
   ]
  },
  {
   "cell_type": "code",
   "execution_count": 124,
   "metadata": {},
   "outputs": [
    {
     "data": {
      "text/plain": [
       "13378.490108944954"
      ]
     },
     "execution_count": 124,
     "metadata": {},
     "output_type": "execute_result"
    }
   ],
   "source": [
    "df_sedan.mean()"
   ]
  },
  {
   "cell_type": "markdown",
   "metadata": {},
   "source": [
    "For an x% confidence interval, trim [(1 – [x/100]) / 2]%"
   ]
  },
  {
   "cell_type": "code",
   "execution_count": 126,
   "metadata": {},
   "outputs": [
    {
     "data": {
      "text/plain": [
       "array([11168.39  , 12668.3472])"
      ]
     },
     "execution_count": 126,
     "metadata": {},
     "output_type": "execute_result"
    }
   ],
   "source": [
    "np.percentile(sorted(bootstrap_means), [10, 90])"
   ]
  },
  {
   "cell_type": "code",
   "execution_count": null,
   "metadata": {},
   "outputs": [],
   "source": []
  }
 ],
 "metadata": {
  "kernelspec": {
   "display_name": "Python (pv-analysis)",
   "language": "python",
   "name": "pv-analysis"
  },
  "language_info": {
   "codemirror_mode": {
    "name": "ipython",
    "version": 3
   },
   "file_extension": ".py",
   "mimetype": "text/x-python",
   "name": "python",
   "nbconvert_exporter": "python",
   "pygments_lexer": "ipython3",
   "version": "3.9.12"
  }
 },
 "nbformat": 4,
 "nbformat_minor": 4
}
