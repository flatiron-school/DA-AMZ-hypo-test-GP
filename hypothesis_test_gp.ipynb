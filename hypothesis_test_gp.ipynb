{
 "cells": [
  {
   "cell_type": "markdown",
   "metadata": {},
   "source": [
    "# Hypothesis Test GP\n",
    "\n",
    "## Outline\n",
    "\n",
    "- **Prepare data**    \n",
    "- **Calculate 90% confidence interval for average price of car. Use sample of 250, 500, 1000**\n",
    "- **Create three different subsets according to `category` and compare `price` across the three subsets**\n",
    "- **Perform a two-tailed t-test on `price` according to `category`**\n",
    "- **Perform a one-tailed t-test on `price` according to `category`**\n",
    "\n",
    "### Level Up\n",
    "- **Calculate 80% bootstrapped confidence interval**"
   ]
  },
  {
   "cell_type": "code",
   "execution_count": null,
   "metadata": {},
   "outputs": [],
   "source": [
    "import pandas as pd\n",
    "import numpy as np\n",
    "import matplotlib.pyplot as plt\n",
    "import seaborn as sns\n",
    "from scipy import stats\n",
    "%matplotlib inline"
   ]
  },
  {
   "cell_type": "markdown",
   "metadata": {},
   "source": [
    "## Prepare Data\n",
    "\n",
    "The csv file we want is stored in the `data` folder as `car_price.csv`. Read the file into a DataFrame, display the first five rows, and check the type of each column.\n",
    "\n",
    "Filter the DataFrame to meet the following criteria:\n",
    "- Cars were produced between 2000 and 2016\n",
    "- The `category` of vehicle belongs to the set `{\"Jeep\", \"Hatchback\", \"Sedan\"}`"
   ]
  },
  {
   "cell_type": "code",
   "execution_count": null,
   "metadata": {},
   "outputs": [],
   "source": [
    "# Your code here"
   ]
  },
  {
   "cell_type": "code",
   "execution_count": null,
   "metadata": {},
   "outputs": [],
   "source": []
  },
  {
   "cell_type": "markdown",
   "metadata": {},
   "source": [
    "## Confidence Interval\n",
    "\n",
    "Calculate a 90% confidence interval around the mean `price` using the following sample sizes:\n",
    "- 250\n",
    "- 500\n",
    "- 1000\n",
    "\n",
    "Compare the range values for each sample size\n",
    "\n",
    "**Note**: Need to set `random_state` when taking sample or sample will be different each time. Also why Bootstrap CI is more robust."
   ]
  },
  {
   "cell_type": "code",
   "execution_count": null,
   "metadata": {},
   "outputs": [],
   "source": [
    "# Your code here"
   ]
  },
  {
   "cell_type": "code",
   "execution_count": null,
   "metadata": {},
   "outputs": [],
   "source": []
  },
  {
   "cell_type": "markdown",
   "metadata": {},
   "source": [
    "## Create three different subsets for `category`"
   ]
  },
  {
   "cell_type": "code",
   "execution_count": null,
   "metadata": {},
   "outputs": [],
   "source": [
    "# Your code here"
   ]
  },
  {
   "cell_type": "code",
   "execution_count": null,
   "metadata": {},
   "outputs": [],
   "source": []
  },
  {
   "cell_type": "markdown",
   "metadata": {},
   "source": [
    "## Compare `price` across three subsets"
   ]
  },
  {
   "cell_type": "code",
   "execution_count": null,
   "metadata": {},
   "outputs": [],
   "source": [
    "# Your code here"
   ]
  },
  {
   "cell_type": "code",
   "execution_count": null,
   "metadata": {},
   "outputs": [],
   "source": []
  },
  {
   "cell_type": "markdown",
   "metadata": {},
   "source": [
    "## Hypothesis Testing\n",
    "\n",
    "The output of a t-test in the scipy stats library (so, `ttest_1samp`, `ttest_rel`, `ttest_ind`, etc) is a tuple with two pieces:\n",
    "- the test statistic\n",
    "- the p-value\n",
    "\n",
    "I recommend you use the `alternative` argument in the t-test functions to tell it what kind of test you're running: \n",
    "- `'two-sided'` tells the stats library you're running a two-tailed test\n",
    "- `'less'` tells the stats library you're running a left tailed test\n",
    "- `'greater'` tells the stats library you're running a right tailed test\n",
    "\n",
    "### Complete the following for each example below:\n",
    "- Define the null and alternative hypothesis\n",
    "- Identify the appropriate type of test to use (use alpha of .05)\n",
    "- State what a Type I and Type II error would be in this context\n",
    "- Take a sample of 250 from each populution\n",
    "- Run the test and interpret the results\n",
    "\n",
    "\n",
    "### Perform a two-tailed t-test on `price` according to `category`\n",
    "\n",
    "The hardest part is setting it up!"
   ]
  },
  {
   "cell_type": "markdown",
   "metadata": {},
   "source": [
    "- Null:\n",
    "- Alternative:\n",
    "\n",
    "- Type I:\n",
    "- Type II:\n",
    "\n",
    "- Test Type:"
   ]
  },
  {
   "cell_type": "code",
   "execution_count": null,
   "metadata": {},
   "outputs": [],
   "source": [
    "# Your code here"
   ]
  },
  {
   "cell_type": "code",
   "execution_count": null,
   "metadata": {},
   "outputs": [],
   "source": []
  },
  {
   "cell_type": "markdown",
   "metadata": {},
   "source": [
    "### Perform a one-tailed t-test on `price` according to `category`"
   ]
  },
  {
   "cell_type": "markdown",
   "metadata": {},
   "source": [
    "- Null:\n",
    "- Alternative:\n",
    "\n",
    "- Type I:\n",
    "- Type II:\n",
    "\n",
    "- Test Type:"
   ]
  },
  {
   "cell_type": "code",
   "execution_count": null,
   "metadata": {},
   "outputs": [],
   "source": [
    "# Your code here"
   ]
  },
  {
   "cell_type": "code",
   "execution_count": null,
   "metadata": {},
   "outputs": [],
   "source": []
  },
  {
   "cell_type": "markdown",
   "metadata": {},
   "source": [
    "# Level Up\n",
    "\n",
    "## Calculate 80% bootstrapped confidence interval around mean Sedan price\n",
    "\n",
    "- Take a sample of 1000 from Sedan population\n",
    "- Take a bootstrap sample from our original sample with n=1000\n",
    "- Calculate the mean of the bootstrap sample\n",
    "- Repeat this process 10,000 times storing the mean of each bootstrap sample in a list.\n",
    "- Plot a distribution of the bootstrap sample means to ensure it reflects a normal distribution\n",
    "- Take an 80% confidence interval of the bootstrap sample means\n",
    "\n",
    "**HELPFUL HINT:** For an x% confidence interval, trim [(1 – [x/100]) / 2]%"
   ]
  },
  {
   "cell_type": "code",
   "execution_count": null,
   "metadata": {},
   "outputs": [],
   "source": [
    "# Your code here"
   ]
  },
  {
   "cell_type": "code",
   "execution_count": null,
   "metadata": {},
   "outputs": [],
   "source": []
  }
 ],
 "metadata": {
  "kernelspec": {
   "display_name": "Python (pv-analysis)",
   "language": "python",
   "name": "pv-analysis"
  },
  "language_info": {
   "codemirror_mode": {
    "name": "ipython",
    "version": 3
   },
   "file_extension": ".py",
   "mimetype": "text/x-python",
   "name": "python",
   "nbconvert_exporter": "python",
   "pygments_lexer": "ipython3",
   "version": "3.9.12"
  }
 },
 "nbformat": 4,
 "nbformat_minor": 4
}
