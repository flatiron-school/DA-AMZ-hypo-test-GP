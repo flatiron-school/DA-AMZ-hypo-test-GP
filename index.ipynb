{
 "cells": [
  {
   "cell_type": "code",
   "execution_count": 1,
   "metadata": {},
   "outputs": [],
   "source": [
    "import pandas as pd\n",
    "import numpy as np\n",
    "import matplotlib.pyplot as plt\n",
    "import seaborn as sns\n",
    "from scipy import stats\n",
    "%matplotlib inline"
   ]
  },
  {
   "cell_type": "markdown",
   "metadata": {},
   "source": [
    "## Outline\n",
    "\n",
    "- Prepare data\n",
    "    - only look at cars produced 2000-2016\n",
    "    - Only look at Hatchback, Sedan, and Jeep\n",
    "    \n",
    "- Calculate 90% confidence interval for average price of car. Use sample of 250, 500, 1000\n",
    "- Create three different subsets according to `category`\n",
    "- Compare and contrast `price` across the three subsets\n",
    "- Perform a two-tailed t-test on `price` according to `category`\n",
    "    - State what a Type I and Type II error would be in the context of this experiment.\n",
    "- Perform a one-tailed t-test on `price` according to `category`\n",
    "    - State what a Type I and Type II error would be in the context of this experiment.\n",
    "\n",
    "#### Level Up\n",
    "- Calculate 85% bootstrapped confidence interval\n",
    "- Bootstrapped significance test"
   ]
  },
  {
   "cell_type": "markdown",
   "metadata": {},
   "source": [
    "## Prepare Data\n",
    "\n",
    "The csv file we want is stored in the `data` folder as `car_price.csv`. Read the file into a DataFrame, display the first five rows, and check the type of each column.\n",
    "\n",
    "Filter the DataFrame to meet the following criteria:\n",
    "- Cars were produced between 2000 and 2016\n",
    "- The `category` of vehicle belongs to the set `{\"Jeep\", \"Hatchback\", \"Sedan\"}`"
   ]
  },
  {
   "cell_type": "code",
   "execution_count": 2,
   "metadata": {},
   "outputs": [
    {
     "data": {
      "text/html": [
       "<div>\n",
       "<style scoped>\n",
       "    .dataframe tbody tr th:only-of-type {\n",
       "        vertical-align: middle;\n",
       "    }\n",
       "\n",
       "    .dataframe tbody tr th {\n",
       "        vertical-align: top;\n",
       "    }\n",
       "\n",
       "    .dataframe thead th {\n",
       "        text-align: right;\n",
       "    }\n",
       "</style>\n",
       "<table border=\"1\" class=\"dataframe\">\n",
       "  <thead>\n",
       "    <tr style=\"text-align: right;\">\n",
       "      <th></th>\n",
       "      <th>id</th>\n",
       "      <th>price</th>\n",
       "      <th>levy</th>\n",
       "      <th>manufacturer</th>\n",
       "      <th>model</th>\n",
       "      <th>prod._year</th>\n",
       "      <th>category</th>\n",
       "      <th>leather_interior</th>\n",
       "      <th>fuel_type</th>\n",
       "      <th>engine_volume</th>\n",
       "      <th>mileage</th>\n",
       "      <th>cylinders</th>\n",
       "      <th>gear_box_type</th>\n",
       "      <th>drive_wheels</th>\n",
       "      <th>doors</th>\n",
       "      <th>wheel</th>\n",
       "      <th>color</th>\n",
       "      <th>airbags</th>\n",
       "    </tr>\n",
       "  </thead>\n",
       "  <tbody>\n",
       "    <tr>\n",
       "      <th>0</th>\n",
       "      <td>45654403</td>\n",
       "      <td>13328</td>\n",
       "      <td>1399</td>\n",
       "      <td>LEXUS</td>\n",
       "      <td>RX 450</td>\n",
       "      <td>2010</td>\n",
       "      <td>Jeep</td>\n",
       "      <td>Yes</td>\n",
       "      <td>Hybrid</td>\n",
       "      <td>3.5</td>\n",
       "      <td>186005 km</td>\n",
       "      <td>6.0</td>\n",
       "      <td>Automatic</td>\n",
       "      <td>4x4</td>\n",
       "      <td>04-May</td>\n",
       "      <td>Left wheel</td>\n",
       "      <td>Silver</td>\n",
       "      <td>12</td>\n",
       "    </tr>\n",
       "    <tr>\n",
       "      <th>1</th>\n",
       "      <td>44731507</td>\n",
       "      <td>16621</td>\n",
       "      <td>1018</td>\n",
       "      <td>CHEVROLET</td>\n",
       "      <td>Equinox</td>\n",
       "      <td>2011</td>\n",
       "      <td>Jeep</td>\n",
       "      <td>No</td>\n",
       "      <td>Petrol</td>\n",
       "      <td>3</td>\n",
       "      <td>192000 km</td>\n",
       "      <td>6.0</td>\n",
       "      <td>Tiptronic</td>\n",
       "      <td>4x4</td>\n",
       "      <td>04-May</td>\n",
       "      <td>Left wheel</td>\n",
       "      <td>Black</td>\n",
       "      <td>8</td>\n",
       "    </tr>\n",
       "    <tr>\n",
       "      <th>2</th>\n",
       "      <td>45774419</td>\n",
       "      <td>8467</td>\n",
       "      <td>-</td>\n",
       "      <td>HONDA</td>\n",
       "      <td>FIT</td>\n",
       "      <td>2006</td>\n",
       "      <td>Hatchback</td>\n",
       "      <td>No</td>\n",
       "      <td>Petrol</td>\n",
       "      <td>1.3</td>\n",
       "      <td>200000 km</td>\n",
       "      <td>4.0</td>\n",
       "      <td>Variator</td>\n",
       "      <td>Front</td>\n",
       "      <td>04-May</td>\n",
       "      <td>Right-hand drive</td>\n",
       "      <td>Black</td>\n",
       "      <td>2</td>\n",
       "    </tr>\n",
       "    <tr>\n",
       "      <th>3</th>\n",
       "      <td>45769185</td>\n",
       "      <td>3607</td>\n",
       "      <td>862</td>\n",
       "      <td>FORD</td>\n",
       "      <td>Escape</td>\n",
       "      <td>2011</td>\n",
       "      <td>Jeep</td>\n",
       "      <td>Yes</td>\n",
       "      <td>Hybrid</td>\n",
       "      <td>2.5</td>\n",
       "      <td>168966 km</td>\n",
       "      <td>4.0</td>\n",
       "      <td>Automatic</td>\n",
       "      <td>4x4</td>\n",
       "      <td>04-May</td>\n",
       "      <td>Left wheel</td>\n",
       "      <td>White</td>\n",
       "      <td>0</td>\n",
       "    </tr>\n",
       "    <tr>\n",
       "      <th>4</th>\n",
       "      <td>45809263</td>\n",
       "      <td>11726</td>\n",
       "      <td>446</td>\n",
       "      <td>HONDA</td>\n",
       "      <td>FIT</td>\n",
       "      <td>2014</td>\n",
       "      <td>Hatchback</td>\n",
       "      <td>Yes</td>\n",
       "      <td>Petrol</td>\n",
       "      <td>1.3</td>\n",
       "      <td>91901 km</td>\n",
       "      <td>4.0</td>\n",
       "      <td>Automatic</td>\n",
       "      <td>Front</td>\n",
       "      <td>04-May</td>\n",
       "      <td>Left wheel</td>\n",
       "      <td>Silver</td>\n",
       "      <td>4</td>\n",
       "    </tr>\n",
       "  </tbody>\n",
       "</table>\n",
       "</div>"
      ],
      "text/plain": [
       "         id  price  levy manufacturer    model  prod._year   category  \\\n",
       "0  45654403  13328  1399        LEXUS   RX 450        2010       Jeep   \n",
       "1  44731507  16621  1018    CHEVROLET  Equinox        2011       Jeep   \n",
       "2  45774419   8467     -        HONDA      FIT        2006  Hatchback   \n",
       "3  45769185   3607   862         FORD   Escape        2011       Jeep   \n",
       "4  45809263  11726   446        HONDA      FIT        2014  Hatchback   \n",
       "\n",
       "  leather_interior fuel_type engine_volume    mileage  cylinders  \\\n",
       "0              Yes    Hybrid           3.5  186005 km        6.0   \n",
       "1               No    Petrol             3  192000 km        6.0   \n",
       "2               No    Petrol           1.3  200000 km        4.0   \n",
       "3              Yes    Hybrid           2.5  168966 km        4.0   \n",
       "4              Yes    Petrol           1.3   91901 km        4.0   \n",
       "\n",
       "  gear_box_type drive_wheels   doors             wheel   color  airbags  \n",
       "0     Automatic          4x4  04-May        Left wheel  Silver       12  \n",
       "1     Tiptronic          4x4  04-May        Left wheel   Black        8  \n",
       "2      Variator        Front  04-May  Right-hand drive   Black        2  \n",
       "3     Automatic          4x4  04-May        Left wheel   White        0  \n",
       "4     Automatic        Front  04-May        Left wheel  Silver        4  "
      ]
     },
     "execution_count": 2,
     "metadata": {},
     "output_type": "execute_result"
    }
   ],
   "source": [
    "df = pd.read_csv('./data/car_price.csv')\n",
    "df.head()"
   ]
  },
  {
   "cell_type": "code",
   "execution_count": 3,
   "metadata": {},
   "outputs": [
    {
     "name": "stdout",
     "output_type": "stream",
     "text": [
      "<class 'pandas.core.frame.DataFrame'>\n",
      "RangeIndex: 17377 entries, 0 to 17376\n",
      "Data columns (total 18 columns):\n",
      " #   Column            Non-Null Count  Dtype  \n",
      "---  ------            --------------  -----  \n",
      " 0   id                17377 non-null  int64  \n",
      " 1   price             17377 non-null  int64  \n",
      " 2   levy              17377 non-null  object \n",
      " 3   manufacturer      17377 non-null  object \n",
      " 4   model             17377 non-null  object \n",
      " 5   prod._year        17377 non-null  int64  \n",
      " 6   category          17377 non-null  object \n",
      " 7   leather_interior  17377 non-null  object \n",
      " 8   fuel_type         17377 non-null  object \n",
      " 9   engine_volume     17377 non-null  object \n",
      " 10  mileage           17377 non-null  object \n",
      " 11  cylinders         17377 non-null  float64\n",
      " 12  gear_box_type     17377 non-null  object \n",
      " 13  drive_wheels      17377 non-null  object \n",
      " 14  doors             17377 non-null  object \n",
      " 15  wheel             17377 non-null  object \n",
      " 16  color             17377 non-null  object \n",
      " 17  airbags           17377 non-null  int64  \n",
      "dtypes: float64(1), int64(4), object(13)\n",
      "memory usage: 2.4+ MB\n"
     ]
    }
   ],
   "source": [
    "df.info()"
   ]
  },
  {
   "cell_type": "code",
   "execution_count": 4,
   "metadata": {},
   "outputs": [],
   "source": [
    "# Cars produced 2000-2016\n",
    "df = df.loc[(df['prod._year'] >= 2000) & (df['prod._year'] <= 2016)]"
   ]
  },
  {
   "cell_type": "code",
   "execution_count": 5,
   "metadata": {},
   "outputs": [],
   "source": [
    "# Cars belong to appropriate category set\n",
    "df = df.loc[df['category'].isin({\"Jeep\", \"Hatchback\", \"Sedan\"})]"
   ]
  },
  {
   "cell_type": "code",
   "execution_count": null,
   "metadata": {},
   "outputs": [],
   "source": []
  },
  {
   "cell_type": "markdown",
   "metadata": {},
   "source": [
    "## Confidence Interval\n",
    "\n",
    "Calculate a 90% confidence interval around the mean `price` using the following sample sizes:\n",
    "- 250\n",
    "- 500\n",
    "- 1000\n",
    "\n",
    "Compare the range values for each sample size\n",
    "\n",
    "**Note**: Need to set `random_state` when taking sample or sample will be different each time. Also why Bootstrap CI is more robust."
   ]
  },
  {
   "cell_type": "code",
   "execution_count": 6,
   "metadata": {},
   "outputs": [],
   "source": [
    "def calculate_ci(sample, confidence_level):\n",
    "    \n",
    "    # Sample mean\n",
    "    sample_mean = sample.mean()\n",
    "\n",
    "    # Sample std\n",
    "    sample_std = sample.std()\n",
    "\n",
    "    # Sample size\n",
    "    sample_size = len(sample)\n",
    "\n",
    "    # Standard Error\n",
    "    se = sample_std/np.sqrt(sample_size)\n",
    "    \n",
    "    # Calculate and return confidence interval\n",
    "    return stats.t.interval(alpha=confidence_level, loc=sample_mean, scale=se, df=sample_size-1)"
   ]
  },
  {
   "cell_type": "code",
   "execution_count": 7,
   "metadata": {},
   "outputs": [],
   "source": [
    "# Sample size 250\n",
    "sample_250 = df['price'].sample(n=250, random_state=42)"
   ]
  },
  {
   "cell_type": "code",
   "execution_count": 8,
   "metadata": {},
   "outputs": [
    {
     "name": "stdout",
     "output_type": "stream",
     "text": [
      "90% CI for sample size 250:  (13591.830821984751, 16009.633178015249)\n"
     ]
    }
   ],
   "source": [
    "print('90% CI for sample size 250: ', calculate_ci(sample_250, .9))"
   ]
  },
  {
   "cell_type": "code",
   "execution_count": 9,
   "metadata": {},
   "outputs": [],
   "source": [
    "# Sample size 500\n",
    "sample_500 = df['price'].sample(n=500, random_state=42)"
   ]
  },
  {
   "cell_type": "code",
   "execution_count": 10,
   "metadata": {},
   "outputs": [
    {
     "name": "stdout",
     "output_type": "stream",
     "text": [
      "90% CI for sample size 500:  (13871.715451379716, 15504.120548620283)\n"
     ]
    }
   ],
   "source": [
    "print('90% CI for sample size 500: ', calculate_ci(sample_500, .9))"
   ]
  },
  {
   "cell_type": "code",
   "execution_count": 11,
   "metadata": {},
   "outputs": [],
   "source": [
    "# Sample size 1000\n",
    "sample_1000 = df['price'].sample(n=1000, random_state=42)"
   ]
  },
  {
   "cell_type": "code",
   "execution_count": 12,
   "metadata": {},
   "outputs": [
    {
     "name": "stdout",
     "output_type": "stream",
     "text": [
      "90% CI for sample size 1000:  (14315.639858690143, 15510.222141309858)\n"
     ]
    }
   ],
   "source": [
    "print('90% CI for sample size 1000: ', calculate_ci(sample_1000, .9))"
   ]
  },
  {
   "cell_type": "markdown",
   "metadata": {},
   "source": [
    "## Create three different subsets for `category`"
   ]
  },
  {
   "cell_type": "code",
   "execution_count": 13,
   "metadata": {},
   "outputs": [
    {
     "data": {
      "text/plain": [
       "Sedan        6976\n",
       "Jeep         4018\n",
       "Hatchback    2384\n",
       "Name: category, dtype: int64"
      ]
     },
     "execution_count": 13,
     "metadata": {},
     "output_type": "execute_result"
    }
   ],
   "source": [
    "df['category'].value_counts()"
   ]
  },
  {
   "cell_type": "markdown",
   "metadata": {},
   "source": [
    "Create three subset DataFrames, one for each `category` type"
   ]
  },
  {
   "cell_type": "code",
   "execution_count": 14,
   "metadata": {},
   "outputs": [],
   "source": [
    "sedan = df.loc[df['category'] == 'Sedan']['price']\n",
    "jeep = df.loc[df['category'] == 'Jeep']['price']\n",
    "hatchback = df.loc[df['category'] == 'Hatchback']['price']"
   ]
  },
  {
   "cell_type": "code",
   "execution_count": 15,
   "metadata": {},
   "outputs": [
    {
     "name": "stdout",
     "output_type": "stream",
     "text": [
      "Length Sedan:  6976\n",
      "Length Jeep:  4018\n",
      "Length Hatchback:  2384\n"
     ]
    }
   ],
   "source": [
    "print('Length Sedan: ', len(sedan))\n",
    "print('Length Jeep: ', len(jeep))\n",
    "print('Length Hatchback: ', len(hatchback))"
   ]
  },
  {
   "cell_type": "markdown",
   "metadata": {},
   "source": [
    "## Compare `price` across three subsets"
   ]
  },
  {
   "cell_type": "code",
   "execution_count": 16,
   "metadata": {},
   "outputs": [
    {
     "data": {
      "text/plain": [
       "category\n",
       "Hatchback    12079.050755\n",
       "Jeep         18479.090841\n",
       "Sedan        13378.490109\n",
       "Name: price, dtype: float64"
      ]
     },
     "execution_count": 16,
     "metadata": {},
     "output_type": "execute_result"
    }
   ],
   "source": [
    "df.groupby('category').mean()['price']"
   ]
  },
  {
   "cell_type": "code",
   "execution_count": 17,
   "metadata": {},
   "outputs": [
    {
     "data": {
      "image/png": "[encoded data removed]",
      "text/plain": [
       "<Figure size 720x432 with 1 Axes>"
      ]
     },
     "metadata": {
      "needs_background": "light"
     },
     "output_type": "display_data"
    }
   ],
   "source": [
    "df.groupby('category').mean()['price'].sort_values(ascending=False).plot.bar(figsize=(10,6)).set(\n",
    "    title='Average Price per Category',\n",
    "    xlabel='Category',\n",
    "    ylabel='Average Price ($)'\n",
    ");"
   ]
  },
  {
   "cell_type": "markdown",
   "metadata": {},
   "source": [
    "Would prefer to see distributions across categories vs aggregate statistics"
   ]
  },
  {
   "cell_type": "code",
   "execution_count": 18,
   "metadata": {},
   "outputs": [
    {
     "data": {
      "image/png": "[encoded data removed]",
      "text/plain": [
       "<Figure size 720x576 with 1 Axes>"
      ]
     },
     "metadata": {
      "needs_background": "light"
     },
     "output_type": "display_data"
    }
   ],
   "source": [
    "fig, ax = plt.subplots(figsize=(10,8))\n",
    "\n",
    "ax.hist(x=[jeep, hatchback, sedan], label=['Jeep', 'Hatcback', 'Sedan'], alpha=.5)\n",
    "\n",
    "ax.legend();"
   ]
  },
  {
   "cell_type": "code",
   "execution_count": 19,
   "metadata": {},
   "outputs": [
    {
     "data": {
      "image/png": "[encoded data removed]",
      "text/plain": [
       "<Figure size 720x576 with 1 Axes>"
      ]
     },
     "metadata": {
      "needs_background": "light"
     },
     "output_type": "display_data"
    }
   ],
   "source": [
    "fig, ax = plt.subplots(figsize=(10,8))\n",
    "sns.boxplot(data=df, x='category', y='price');"
   ]
  },
  {
   "cell_type": "code",
   "execution_count": 20,
   "metadata": {},
   "outputs": [
    {
     "data": {
      "image/png": "[encoded data removed]",
      "text/plain": [
       "<Figure size 720x576 with 1 Axes>"
      ]
     },
     "metadata": {
      "needs_background": "light"
     },
     "output_type": "display_data"
    }
   ],
   "source": [
    "fig, ax = plt.subplots(figsize=(10,8))\n",
    "\n",
    "ax.hist(x=sedan, label='Sedan', alpha=.5)\n",
    "ax.hist(x=jeep, label='Jeep', alpha=.5)\n",
    "ax.hist(x=hatchback, label='Hatchback', alpha=.5)\n",
    "\n",
    "ax.legend();"
   ]
  },
  {
   "cell_type": "markdown",
   "metadata": {},
   "source": [
    "## Hypothesis Testing\n",
    "\n",
    "The output of a t-test in the scipy stats library (so, `ttest_1samp`, `ttest_rel`, `ttest_ind`, etc) is a tuple with two pieces:\n",
    "- the test statistic\n",
    "- the p-value\n",
    "\n",
    "I recommend you use the `alternative` argument in the t-test functions to tell it what kind of test you're running: \n",
    "- `'two-sided'` tells the stats library you're running a two-tailed test\n",
    "- `'less'` tells the stats library you're running a left tailed test\n",
    "- `'greater'` tells the stats library you're running a right tailed test\n",
    "\n",
    "### Complete the followoing for each example below:\n",
    "- Define the null an alternative hypothesis\n",
    "- Identify the appropriate type of test to use (use alpha of .05)\n",
    "- State what a Type I and Type II error would be in this context\n",
    "- Take a sample of 250 from each populution\n",
    "- Run the test and interpret the results\n",
    "\n",
    "\n",
    "### Perform a two-tailed t-test on `price` according to `category`\n",
    "\n",
    "The hardest part is setting it up!"
   ]
  },
  {
   "cell_type": "markdown",
   "metadata": {},
   "source": [
    "- Null: The average price of a Sedan is the same than the average price of a Hatchback.\n",
    "- Alternative: The average price of a Sedan is different than the average price Hatchback.\n",
    "\n",
    "- Type I:\n",
    "- Type II:\n",
    "\n",
    "We will be comparing two different samples so we need to perform an indepedent, 2-sample t-test."
   ]
  },
  {
   "cell_type": "code",
   "execution_count": 73,
   "metadata": {},
   "outputs": [],
   "source": [
    "sedan_sample = sedan.sample(n=250, random_state=42)\n",
    "hatchback_sample = hatchback.sample(n=250, random_state=42)"
   ]
  },
  {
   "cell_type": "markdown",
   "metadata": {},
   "source": [
    "Check variance of each sample"
   ]
  },
  {
   "cell_type": "code",
   "execution_count": 74,
   "metadata": {},
   "outputs": [
    {
     "name": "stdout",
     "output_type": "stream",
     "text": [
      "Variance of Sedan sample:  102840711.43235345\n",
      "Variance of hatchback sample:  56327898.591823295\n"
     ]
    }
   ],
   "source": [
    "print(\"Variance of Sedan sample: \", sedan_sample.var())\n",
    "print(\"Variance of hatchback sample: \", hatchback_sample.var())"
   ]
  },
  {
   "cell_type": "markdown",
   "metadata": {},
   "source": [
    "Different variances in each sample. Set `equal_var` to false"
   ]
  },
  {
   "cell_type": "code",
   "execution_count": 75,
   "metadata": {},
   "outputs": [
    {
     "data": {
      "text/plain": [
       "Ttest_indResult(statistic=1.07402906245868, pvalue=0.2833741671202797)"
      ]
     },
     "execution_count": 75,
     "metadata": {},
     "output_type": "execute_result"
    }
   ],
   "source": [
    "# RUN TEST\n",
    "stats.ttest_ind(sedan_sample, hatchback_sample, equal_var=False, alternative='two-sided')"
   ]
  },
  {
   "cell_type": "markdown",
   "metadata": {},
   "source": [
    "The p-value is greater than our signifiance level of .05, so we fail to reject the null hypothesis. "
   ]
  },
  {
   "cell_type": "markdown",
   "metadata": {},
   "source": [
    "### Perform a one-tailed t-test on `price` according to `category`"
   ]
  },
  {
   "cell_type": "markdown",
   "metadata": {},
   "source": [
    "- Null: The average price of a Jeep is less than or equal to the average price of a Sedan\n",
    "- Alternative: The average price of a Jeep is greater than the average price of a Sedan\n",
    "\n",
    "- Type I:\n",
    "- Type II:\n",
    "\n",
    "Once again, running a 2 sample independent t-test"
   ]
  },
  {
   "cell_type": "code",
   "execution_count": 76,
   "metadata": {},
   "outputs": [],
   "source": [
    "jeep_sample = jeep.sample(n=250, random_state=42)\n",
    "sedan_sample = sedan.sample(n=250, random_state=42)"
   ]
  },
  {
   "cell_type": "markdown",
   "metadata": {},
   "source": [
    "Check variance of each sample"
   ]
  },
  {
   "cell_type": "code",
   "execution_count": 77,
   "metadata": {},
   "outputs": [
    {
     "name": "stdout",
     "output_type": "stream",
     "text": [
      "Variance of Sedan sample:  102840711.43235345\n",
      "Variance of hatchback sample:  196295569.33476296\n"
     ]
    }
   ],
   "source": [
    "print(\"Variance of Sedan sample: \", sedan_sample.var())\n",
    "print(\"Variance of hatchback sample: \", jeep_sample.var())"
   ]
  },
  {
   "cell_type": "code",
   "execution_count": 78,
   "metadata": {},
   "outputs": [
    {
     "data": {
      "text/plain": [
       "Ttest_indResult(statistic=6.059372571849608, pvalue=1.4370469143939956e-09)"
      ]
     },
     "execution_count": 78,
     "metadata": {},
     "output_type": "execute_result"
    }
   ],
   "source": [
    "# RUN TEST\n",
    "stats.ttest_ind(jeep_sample, sedan_sample, equal_var=False, alternative='greater')"
   ]
  },
  {
   "cell_type": "markdown",
   "metadata": {},
   "source": [
    "The p-value is well below significance level of .05 so we reject null hypothesis that average price of Jeep is less than or equal to average price of Sedan."
   ]
  },
  {
   "cell_type": "markdown",
   "metadata": {},
   "source": [
    "# Level Up\n",
    "\n",
    "## Calculate 80% bootstrapped confidence interval around mean Sedan price\n",
    "\n",
    "- Take a sample of 1000 from Sedan population\n",
    "- Take a bootstrap sample from our original sample with n=1000\n",
    "- Calculate the mean of the bootstrap sample\n",
    "- Repeat this process 10,000 times storing the mean of each bootstrap sample in a list.\n",
    "- Plot a distribution of the bootstrap sample means to ensure it reflects a normal distribution\n",
    "- Take a 90% confidence interval of the bootstrap sample means"
   ]
  },
  {
   "cell_type": "code",
   "execution_count": 82,
   "metadata": {},
   "outputs": [
    {
     "data": {
      "text/plain": [
       "[Text(0.5, 1.0, 'Distribution of Sedan Price (Pop)')]"
      ]
     },
     "execution_count": 82,
     "metadata": {},
     "output_type": "execute_result"
    },
    {
     "data": {
      "image/png": "[encoded data removed]",
      "text/plain": [
       "<Figure size 720x432 with 1 Axes>"
      ]
     },
     "metadata": {
      "needs_background": "light"
     },
     "output_type": "display_data"
    }
   ],
   "source": [
    "sedan.hist(figsize=(10,6)).set(title='Distribution of Sedan Price (Pop)')"
   ]
  },
  {
   "cell_type": "code",
   "execution_count": 138,
   "metadata": {},
   "outputs": [
    {
     "data": {
      "image/png": "[encoded data removed]",
      "text/plain": [
       "<Figure size 720x432 with 1 Axes>"
      ]
     },
     "metadata": {
      "needs_background": "light"
     },
     "output_type": "display_data"
    }
   ],
   "source": [
    "main_sample = sedan.sample(n=250)\n",
    "main_sample.hist(figsize=(10,6)).set(title='Distribution of Sedan Price (Sample)');"
   ]
  },
  {
   "cell_type": "code",
   "execution_count": 159,
   "metadata": {},
   "outputs": [],
   "source": [
    "bootstrap_means = []\n",
    "for _ in range(10000):\n",
    "    bt_sample = main_sample.sample(n=250, replace=True)\n",
    "    bt_mean = bt_sample.mean()\n",
    "    bootstrap_means.append(bt_mean)"
   ]
  },
  {
   "cell_type": "code",
   "execution_count": 153,
   "metadata": {},
   "outputs": [
    {
     "data": {
      "image/png": "[encoded data removed]",
      "text/plain": [
       "<Figure size 720x432 with 1 Axes>"
      ]
     },
     "metadata": {
      "needs_background": "light"
     },
     "output_type": "display_data"
    }
   ],
   "source": [
    "fig, ax = plt.subplots(figsize=(10,6))\n",
    "ax.hist(bootstrap_means)\n",
    "ax.set_title('Bootstrap Sampling Distribution of mean Sedan Price');"
   ]
  },
  {
   "cell_type": "code",
   "execution_count": 154,
   "metadata": {},
   "outputs": [
    {
     "data": {
      "text/plain": [
       "13378.490108944954"
      ]
     },
     "execution_count": 154,
     "metadata": {},
     "output_type": "execute_result"
    }
   ],
   "source": [
    "sedan.mean()"
   ]
  },
  {
   "cell_type": "markdown",
   "metadata": {},
   "source": [
    "For an x% confidence interval, trim [(1 – [x/100]) / 2]%"
   ]
  },
  {
   "cell_type": "code",
   "execution_count": 170,
   "metadata": {},
   "outputs": [
    {
     "data": {
      "text/plain": [
       "array([12351.1856, 14456.2029])"
      ]
     },
     "execution_count": 170,
     "metadata": {},
     "output_type": "execute_result"
    }
   ],
   "source": [
    "np.percentile(sorted(bootstrap_means), [10, 90])"
   ]
  },
  {
   "cell_type": "code",
   "execution_count": 169,
   "metadata": {},
   "outputs": [
    {
     "data": {
      "text/plain": [
       "(13403.587359907973, 13417.390840092028)"
      ]
     },
     "execution_count": 169,
     "metadata": {},
     "output_type": "execute_result"
    }
   ],
   "source": [
    "stats.t.interval(alpha=.8,\n",
    "                 loc=np.mean(bootstrap_means),\n",
    "                 scale=np.std(bootstrap_means)/np.sqrt(len(bootstrap_means)),\n",
    "                 df=len(bootstrap_means)-1)"
   ]
  }
 ],
 "metadata": {
  "kernelspec": {
   "display_name": "Python (pv-analysis)",
   "language": "python",
   "name": "pv-analysis"
  },
  "language_info": {
   "codemirror_mode": {
    "name": "ipython",
    "version": 3
   },
   "file_extension": ".py",
   "mimetype": "text/x-python",
   "name": "python",
   "nbconvert_exporter": "python",
   "pygments_lexer": "ipython3",
   "version": "3.9.12"
  }
 },
 "nbformat": 4,
 "nbformat_minor": 4
}
